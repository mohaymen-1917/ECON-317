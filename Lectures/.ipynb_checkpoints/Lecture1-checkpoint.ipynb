{
 "cells": [
  {
   "cell_type": "markdown",
   "id": "bf8a5a8c-aa3c-4d50-8964-cbc1d2f52583",
   "metadata": {},
   "source": [
    "## Python\n",
    "![logo](python_logo.png \"logo\")\n",
    "\n",
    "It was designed by **Guido van Rossum**, a Dutch programmer\n",
    "\n",
    "![Rossum](rossum.png \"Guido van Rossum\")\n",
    "\n",
    "#### Why Python?\n",
    "* You can build almost anything using Python. \n",
    "* Updated and new statistical techniques for social sciences are being implemented as Python packages. So, it is universal. \n",
    "* It is FREE!!!\n",
    "* Most popular because of its simplicity and less steeper learning curve than other languages\n",
    "* Enables easy collaboration among natural, social and data scientists.\n"
   ]
  },
  {
   "cell_type": "markdown",
   "id": "fbc960a2-f168-47e8-beaf-0a4a2579faa7",
   "metadata": {
    "jp-MarkdownHeadingCollapsed": true
   },
   "source": [
    "### Jupyter Notebook\n",
    "![Jupyter](jupyter.png \"Jupyter Notebook\")\n",
    "\n",
    "* It is an open-source web platform designed for the creation and sharing of documents that include texts, codes and visual contents.\n",
    "* It supports more than 40 programming languages.\n",
    "* Notebook files have .ipynb extension and can be easily shared in GitHub\n",
    "\n",
    "#### Markdown \n",
    "* It is a markup language that can be converted to HTML or other formats. \n",
    "\n",
    "#### Launching Jupyter Notebook\n",
    "* Anaconda Navigator, or\n",
    "* Typing 'jupyter notebook' in Terminal/PowerShell "
   ]
  },
  {
   "cell_type": "markdown",
   "id": "a332b5f7-d611-4bcb-8086-318e340c06c2",
   "metadata": {},
   "source": [
    "### GitHub\n",
    "![GutHub Octocat](git_icon.jpg \"GutHub Octocat\")\n",
    "\n",
    "* GitHub is a code hosting platform for version control and collaboration\n",
    "* It was created by Linus Torvalds in 2005 and Microsoft bought it in 2018\n",
    "\n",
    "#### Getting Started\n",
    "* Creating account on https://github.com/\n",
    "* Options to interact with it, \n",
    "1. Command line\n",
    "2. Github Desktop \n",
    "\n",
    "#### What is Command Line?\n",
    "* Terminal = Console = Power Shell = Command Line = Command Prompt\n",
    "* Platform to access files, run programs, and execute commands\n",
    "* Provides scripts for reproducible workflows across different operating systems\n"
   ]
  },
  {
   "cell_type": "markdown",
   "id": "9b53caf7-4fa7-4e1e-8221-b75ee95df8fa",
   "metadata": {},
   "source": [
    "#### Course of action for the students of ECON 317:\n",
    "1. Go to https://www.python.org/. Download and install Python.\n",
    "2. Open the installer and click on 'Add python.exe to path'.\n",
    "3. Go with the default option and install python.\n",
    "4. Go to terminal/ PowerShell and type 'Python --version' to check if it is installed or not.\n",
    "5. If installed properly it will show the Python version.\n",
    "6. If not it will show an error. In that case, go to the Python folder and copy the path.\n",
    "7. Also copy the script folder path.\n",
    "8. Then go the environment and paste this two paths in the path list by clicking edit.\n",
    "9. Then again check the python version using terminal/PowerShell\n",
    "    \n",
    "10. Now we will install Jupyter Notebook using pip command. Pip is included in the Python installation process. So it should work by default.\n",
    "11. In the terminal/PowerShell type 'pip install jupyter' and press enter.\n",
    "12. Now check 'jupyter-- version'. If installed properly you will get the version displayed. Otherwise, navigate to the jupyter folder and paste the paths in the environment variables, just the way it should be done for python.\n",
    "    \n",
    "13. Go to https://github.com/ (https://github.com/) and make an account. \n",
    "14. Post the name of your GitHub account in the google form supplied in the classroom.\n",
    "15. Download and install GitHub desktop.\n",
    "16. Go to https://github.com/TAD600/ECON-317\n",
    "17. Click on the **Code** tab in green color and then click 'Clone using the web URL.'\n",
    "18. It will open GitHub Desktop. Then clone the repository to a folder you want to have your course materials in.\n",
    "19. If you copy paste of the path of your cloned repository folder and in ther terminal/PowerShell you type cd \"path\" and press enter, it will set the path to your repository.\n",
    "20. Then type jupyter notebook and press enter. It will open your explorer to the browser you are correctly working on.\n",
    "21. Find the Lecture1.ipynb file and click it. Here you are!!!\n",
    "22. Now we are on the same page. \n",
    "\n",
    "*Reference: This YouTube video is quite easy to follow https://www.youtube.com/watch?v=HLD-Ll_-IT4&t=3s*"
   ]
  },
  {
   "cell_type": "markdown",
   "id": "f9fd2feb-e842-4eff-aef9-3cdae04d6c15",
   "metadata": {},
   "source": [
    "#### Jupyter Notebook Keyboard Shortcuts:\n",
    "* Ctrl + Enter --> runs command\n",
    "* Ctrl + Z --> Undo\n",
    "* Shit + # --> commenting out a code\n",
    "* Ctrl + / --> uncomment\n",
    "* Alt + Enter --> run the current cell and enter a new cell below\n",
    "* Shift + Enter --> run the current cell and select the cell below\n",
    "* \n",
    "**Basic rules of markdown**  [cheatsheet](https://github.com/adam-p/markdown-here/wiki/Markdown-Cheatsheet)\n",
    "* For mac users 'Ctrl' should be substituted with 'command' "
   ]
  },
  {
   "cell_type": "markdown",
   "id": "d5704a08-39d7-43e3-bfde-f6394a31deb3",
   "metadata": {},
   "source": [
    "### Python as a calculator"
   ]
  },
  {
   "cell_type": "code",
   "execution_count": 1,
   "id": "15c8e7bc-95f1-4256-867e-c70f877522ab",
   "metadata": {},
   "outputs": [
    {
     "data": {
      "text/plain": [
       "12"
      ]
     },
     "execution_count": 1,
     "metadata": {},
     "output_type": "execute_result"
    }
   ],
   "source": [
    "10 + 2"
   ]
  },
  {
   "cell_type": "code",
   "execution_count": 2,
   "id": "e6013950-ab30-4fa6-b30d-5fb365bb96d1",
   "metadata": {},
   "outputs": [
    {
     "name": "stdout",
     "output_type": "stream",
     "text": [
      "12\n"
     ]
    }
   ],
   "source": [
    "print(10+2)"
   ]
  },
  {
   "cell_type": "code",
   "execution_count": 16,
   "id": "e7f1ad02-0f0f-4cc3-b41a-8fa09f23fbf7",
   "metadata": {},
   "outputs": [
    {
     "name": "stdout",
     "output_type": "stream",
     "text": [
      "172\n"
     ]
    }
   ],
   "source": [
    "print(170 + 2)"
   ]
  },
  {
   "cell_type": "code",
   "execution_count": 13,
   "id": "ddfdf6b0-9023-40c8-b007-c581403a2a45",
   "metadata": {},
   "outputs": [
    {
     "name": "stdout",
     "output_type": "stream",
     "text": [
      "168\n"
     ]
    }
   ],
   "source": [
    "print(170 - 2)"
   ]
  },
  {
   "cell_type": "code",
   "execution_count": 14,
   "id": "6b21ccf4-18db-4779-9f2a-4c285ac4b6c7",
   "metadata": {},
   "outputs": [
    {
     "name": "stdout",
     "output_type": "stream",
     "text": [
      "340\n"
     ]
    }
   ],
   "source": [
    "print(170 * 2)"
   ]
  },
  {
   "cell_type": "code",
   "execution_count": 15,
   "id": "96455777-8c20-4650-9afc-0b0e3d233d6e",
   "metadata": {},
   "outputs": [
    {
     "name": "stdout",
     "output_type": "stream",
     "text": [
      "85.0\n"
     ]
    }
   ],
   "source": [
    "print(170 / 2)"
   ]
  },
  {
   "cell_type": "markdown",
   "id": "cc71de00-edc4-4d63-8be1-ba4b60cead55",
   "metadata": {},
   "source": [
    "### Variable"
   ]
  },
  {
   "cell_type": "code",
   "execution_count": 14,
   "id": "4bc5a995-be44-4c2a-91fe-cda99d536aca",
   "metadata": {},
   "outputs": [],
   "source": [
    "height = 1.8\n",
    "weight = 50"
   ]
  },
  {
   "cell_type": "code",
   "execution_count": 5,
   "id": "e0a51282-cc5a-4516-a80d-c7a1b90fbe2e",
   "metadata": {},
   "outputs": [
    {
     "data": {
      "text/plain": [
       "1.6"
      ]
     },
     "execution_count": 5,
     "metadata": {},
     "output_type": "execute_result"
    }
   ],
   "source": [
    "height"
   ]
  },
  {
   "cell_type": "code",
   "execution_count": 6,
   "id": "4b137e4d-8e90-4d13-b163-7dc716f88d91",
   "metadata": {},
   "outputs": [
    {
     "data": {
      "text/plain": [
       "75"
      ]
     },
     "execution_count": 6,
     "metadata": {},
     "output_type": "execute_result"
    }
   ],
   "source": [
    "weight"
   ]
  },
  {
   "cell_type": "code",
   "execution_count": 15,
   "id": "cb46aba3-4911-4bc4-a94e-3dcc3debbafe",
   "metadata": {},
   "outputs": [],
   "source": [
    "bmi = weight / height ** 2"
   ]
  },
  {
   "cell_type": "code",
   "execution_count": 16,
   "id": "cff60fd1-953b-47b0-bc1d-a7e51dd36d1f",
   "metadata": {},
   "outputs": [
    {
     "data": {
      "text/plain": [
       "15.432098765432098"
      ]
     },
     "execution_count": 16,
     "metadata": {},
     "output_type": "execute_result"
    }
   ],
   "source": [
    "bmi # If we change the height and weight, bmi will change"
   ]
  },
  {
   "cell_type": "markdown",
   "id": "2dc73c90-ad3d-48b2-9c8f-f9ea680d9eba",
   "metadata": {},
   "source": [
    "### Data Type\n",
    "* float : real numbers\n",
    "* int : integer numbers\n",
    "* str : string, text\n",
    "* bool : True, False"
   ]
  },
  {
   "cell_type": "code",
   "execution_count": 18,
   "id": "4a70a935-16fd-4f84-b4dc-03b47050a976",
   "metadata": {},
   "outputs": [
    {
     "data": {
      "text/plain": [
       "float"
      ]
     },
     "execution_count": 18,
     "metadata": {},
     "output_type": "execute_result"
    }
   ],
   "source": [
    "type(bmi)"
   ]
  },
  {
   "cell_type": "code",
   "execution_count": 19,
   "id": "f0e26ec9-4b04-4390-a23d-58544aaffb4b",
   "metadata": {},
   "outputs": [],
   "source": [
    "name = 'Bangladesh'"
   ]
  },
  {
   "cell_type": "code",
   "execution_count": 20,
   "id": "5abbf1c6-ffdf-4f16-9f9f-bb2ead5257e0",
   "metadata": {},
   "outputs": [
    {
     "data": {
      "text/plain": [
       "str"
      ]
     },
     "execution_count": 20,
     "metadata": {},
     "output_type": "execute_result"
    }
   ],
   "source": [
    "type(name)"
   ]
  },
  {
   "cell_type": "code",
   "execution_count": 21,
   "id": "8a5b57c8-de9a-4419-8342-3d18f02cd6eb",
   "metadata": {},
   "outputs": [
    {
     "data": {
      "text/plain": [
       "float"
      ]
     },
     "execution_count": 21,
     "metadata": {},
     "output_type": "execute_result"
    }
   ],
   "source": [
    "type(height)"
   ]
  },
  {
   "cell_type": "code",
   "execution_count": 22,
   "id": "0ba730e1-49f4-4b62-b3c0-7e088e4d5603",
   "metadata": {},
   "outputs": [],
   "source": [
    "A = True"
   ]
  },
  {
   "cell_type": "code",
   "execution_count": 23,
   "id": "78b35891-6a77-40ab-8c3b-635aeae49cb7",
   "metadata": {},
   "outputs": [
    {
     "data": {
      "text/plain": [
       "bool"
      ]
     },
     "execution_count": 23,
     "metadata": {},
     "output_type": "execute_result"
    }
   ],
   "source": [
    "type(A)"
   ]
  },
  {
   "cell_type": "code",
   "execution_count": 24,
   "id": "0e30ad8f-3c46-4962-9c50-8b99d6e9fdf0",
   "metadata": {},
   "outputs": [
    {
     "data": {
      "text/plain": [
       "3"
      ]
     },
     "execution_count": 24,
     "metadata": {},
     "output_type": "execute_result"
    }
   ],
   "source": [
    "1 + 2"
   ]
  },
  {
   "cell_type": "code",
   "execution_count": 25,
   "id": "1d1e8009-da32-42fa-b937-756d9ad9875e",
   "metadata": {},
   "outputs": [
    {
     "data": {
      "text/plain": [
       "'12'"
      ]
     },
     "execution_count": 25,
     "metadata": {},
     "output_type": "execute_result"
    }
   ],
   "source": [
    "'1' + '2'"
   ]
  },
  {
   "cell_type": "code",
   "execution_count": 26,
   "id": "bb4abb13-6a32-46ab-98f6-0812444f176c",
   "metadata": {},
   "outputs": [
    {
     "data": {
      "text/plain": [
       "'111'"
      ]
     },
     "execution_count": 26,
     "metadata": {},
     "output_type": "execute_result"
    }
   ],
   "source": [
    "\"1\" + \"1\" + \"1\""
   ]
  },
  {
   "cell_type": "code",
   "execution_count": 29,
   "id": "1f3e891b-57cc-4434-950e-5e76f1934354",
   "metadata": {},
   "outputs": [
    {
     "data": {
      "text/plain": [
       "'Hello World!'"
      ]
     },
     "execution_count": 29,
     "metadata": {},
     "output_type": "execute_result"
    }
   ],
   "source": [
    "'Hello ' + 'World' + '!'"
   ]
  },
  {
   "cell_type": "markdown",
   "id": "6b8b49b1-b718-43cd-8133-bb1f70340795",
   "metadata": {},
   "source": [
    "### Primitive Constructs in Programming Languages"
   ]
  },
  {
   "cell_type": "markdown",
   "id": "e4b6330f-bd4f-4f66-8773-9ef302f60d86",
   "metadata": {},
   "source": [
    "* Literals\n",
    "###### Reference: https://www.geeksforgeeks.org/python/literals-in-python/"
   ]
  },
  {
   "cell_type": "code",
   "execution_count": 6,
   "id": "3117c38b-803e-4d5b-975f-1b32b54e9db5",
   "metadata": {},
   "outputs": [
    {
     "data": {
      "text/plain": [
       "45"
      ]
     },
     "execution_count": 6,
     "metadata": {},
     "output_type": "execute_result"
    }
   ],
   "source": [
    "#numeric lietrals\n",
    "45 "
   ]
  },
  {
   "cell_type": "code",
   "execution_count": 7,
   "id": "e2bd7bd9-e47c-4d99-9f58-2c9ce912a167",
   "metadata": {},
   "outputs": [
    {
     "data": {
      "text/plain": [
       "3.1416"
      ]
     },
     "execution_count": 7,
     "metadata": {},
     "output_type": "execute_result"
    }
   ],
   "source": [
    "#float\n",
    "3.1416 "
   ]
  },
  {
   "cell_type": "code",
   "execution_count": 8,
   "id": "14249c7c-01d6-4812-825a-798f02c4b463",
   "metadata": {},
   "outputs": [
    {
     "data": {
      "text/plain": [
       "'Hello'"
      ]
     },
     "execution_count": 8,
     "metadata": {},
     "output_type": "execute_result"
    }
   ],
   "source": [
    "# string literals\n",
    "'Hello' "
   ]
  },
  {
   "cell_type": "code",
   "execution_count": 9,
   "id": "580ebe9b-3049-47a4-b328-4e7de0585c00",
   "metadata": {},
   "outputs": [
    {
     "data": {
      "text/plain": [
       "'ECON 317'"
      ]
     },
     "execution_count": 9,
     "metadata": {},
     "output_type": "execute_result"
    }
   ],
   "source": [
    "\"ECON 317\""
   ]
  },
  {
   "cell_type": "code",
   "execution_count": 32,
   "id": "c8246ef1-636e-42a1-91cf-dddffd37615c",
   "metadata": {},
   "outputs": [
    {
     "data": {
      "text/plain": [
       "' This is the \\nfirst lecture \\nof ECON 317'"
      ]
     },
     "execution_count": 32,
     "metadata": {},
     "output_type": "execute_result"
    }
   ],
   "source": [
    "\"\"\" This is the \n",
    "first lecture \n",
    "of ECON 317\"\"\""
   ]
  },
  {
   "cell_type": "code",
   "execution_count": 11,
   "id": "6907d107-0405-4211-8385-b6d1716db9a8",
   "metadata": {},
   "outputs": [
    {
     "data": {
      "text/plain": [
       "True"
      ]
     },
     "execution_count": 11,
     "metadata": {},
     "output_type": "execute_result"
    }
   ],
   "source": [
    "# Boolean literal\n",
    "True"
   ]
  },
  {
   "cell_type": "code",
   "execution_count": 12,
   "id": "0f328063-546f-4989-a437-352ca5ea4fe4",
   "metadata": {},
   "outputs": [
    {
     "data": {
      "text/plain": [
       "False"
      ]
     },
     "execution_count": 12,
     "metadata": {},
     "output_type": "execute_result"
    }
   ],
   "source": [
    "False"
   ]
  },
  {
   "cell_type": "code",
   "execution_count": 34,
   "id": "46625341-d929-4400-9f1b-e30e567d8fbc",
   "metadata": {},
   "outputs": [],
   "source": [
    "a = 2"
   ]
  },
  {
   "cell_type": "code",
   "execution_count": 35,
   "id": "13a3e413-6310-48a2-9a48-30704371ba07",
   "metadata": {},
   "outputs": [
    {
     "data": {
      "text/plain": [
       "True"
      ]
     },
     "execution_count": 35,
     "metadata": {},
     "output_type": "execute_result"
    }
   ],
   "source": [
    "1 + 1 == a"
   ]
  },
  {
   "cell_type": "code",
   "execution_count": 36,
   "id": "f7ba9d47-dcdf-4dc9-9479-7100bd02d733",
   "metadata": {},
   "outputs": [
    {
     "data": {
      "text/plain": [
       "False"
      ]
     },
     "execution_count": 36,
     "metadata": {},
     "output_type": "execute_result"
    }
   ],
   "source": [
    "2 +3 == a"
   ]
  },
  {
   "cell_type": "code",
   "execution_count": 37,
   "id": "910d0b91-986e-447a-ba02-09167232839f",
   "metadata": {},
   "outputs": [
    {
     "data": {
      "text/plain": [
       "True"
      ]
     },
     "execution_count": 37,
     "metadata": {},
     "output_type": "execute_result"
    }
   ],
   "source": [
    "2 - 3 != a"
   ]
  },
  {
   "cell_type": "code",
   "execution_count": 42,
   "id": "9dded4fe-58c6-4334-b380-e874dadcbeb2",
   "metadata": {},
   "outputs": [],
   "source": [
    "# collections as literals\n",
    "a_list = [1, 4, 5] \n",
    "tuple1 = (1, 4, 5)\n",
    "a_tuple = (1, 4, \"five\")\n",
    "a_dictionary = {\"key1\": 1, \"key2\": 4, \"key5\": 123}\n",
    "a_set = {1, 4, 5} # a set stores only unique elements"
   ]
  },
  {
   "cell_type": "code",
   "execution_count": 39,
   "id": "d68b4f7c-52ec-424b-a4f2-cdf313d8e9e8",
   "metadata": {},
   "outputs": [
    {
     "data": {
      "text/plain": [
       "list"
      ]
     },
     "execution_count": 39,
     "metadata": {},
     "output_type": "execute_result"
    }
   ],
   "source": [
    "type(a_list)"
   ]
  },
  {
   "cell_type": "code",
   "execution_count": 40,
   "id": "f72d515a-d294-4a30-9173-8896e27c4e6d",
   "metadata": {},
   "outputs": [
    {
     "data": {
      "text/plain": [
       "set"
      ]
     },
     "execution_count": 40,
     "metadata": {},
     "output_type": "execute_result"
    }
   ],
   "source": [
    "type(a_set)"
   ]
  },
  {
   "cell_type": "code",
   "execution_count": 41,
   "id": "44d5a603-56db-4272-9eb6-96ea3a51e0da",
   "metadata": {},
   "outputs": [
    {
     "data": {
      "text/plain": [
       "tuple"
      ]
     },
     "execution_count": 41,
     "metadata": {},
     "output_type": "execute_result"
    }
   ],
   "source": [
    "type(tuple1)"
   ]
  },
  {
   "cell_type": "code",
   "execution_count": 43,
   "id": "36e1fbd9-7f60-4ea4-b902-86d15ea10d4d",
   "metadata": {},
   "outputs": [
    {
     "data": {
      "text/plain": [
       "dict"
      ]
     },
     "execution_count": 43,
     "metadata": {},
     "output_type": "execute_result"
    }
   ],
   "source": [
    "type(a_dictionary)"
   ]
  },
  {
   "cell_type": "code",
   "execution_count": 44,
   "id": "7832da1a-ab20-4fbe-8a0b-aa403986a118",
   "metadata": {},
   "outputs": [],
   "source": [
    "# special literal \n",
    "None"
   ]
  },
  {
   "cell_type": "markdown",
   "id": "223978c4-be88-46b0-9668-6272632e0fe1",
   "metadata": {},
   "source": [
    "* Infix operators"
   ]
  },
  {
   "cell_type": "code",
   "execution_count": 19,
   "id": "1acb0961-c7da-4245-99c1-a4758058595e",
   "metadata": {},
   "outputs": [],
   "source": [
    "## Arithmetic Operators:\n",
    "#  + (addition): a + b\n",
    "# - (subtraction): a - b\n",
    "# * (multiplication): a * b\n",
    "# / (division): a / b\n",
    "# // (floor division): a // b\n",
    "# % (modulus): a % b\n",
    "# ** (exponentiation): a ** b"
   ]
  },
  {
   "cell_type": "code",
   "execution_count": 45,
   "id": "ff3ea721-3bdc-4474-877c-ce142195e526",
   "metadata": {},
   "outputs": [],
   "source": [
    "a = 10\n",
    "b = 3"
   ]
  },
  {
   "cell_type": "code",
   "execution_count": 46,
   "id": "acf8d626-3f69-497e-ad39-88b3dec5f35e",
   "metadata": {},
   "outputs": [
    {
     "data": {
      "text/plain": [
       "13"
      ]
     },
     "execution_count": 46,
     "metadata": {},
     "output_type": "execute_result"
    }
   ],
   "source": [
    "a + b"
   ]
  },
  {
   "cell_type": "code",
   "execution_count": 47,
   "id": "e774687f-e1d6-4f69-a3d4-359d7ffa3a58",
   "metadata": {},
   "outputs": [
    {
     "data": {
      "text/plain": [
       "7"
      ]
     },
     "execution_count": 47,
     "metadata": {},
     "output_type": "execute_result"
    }
   ],
   "source": [
    "a - b"
   ]
  },
  {
   "cell_type": "code",
   "execution_count": 48,
   "id": "a58a5d22-b9fe-455b-b6ab-c144473676ee",
   "metadata": {},
   "outputs": [
    {
     "data": {
      "text/plain": [
       "30"
      ]
     },
     "execution_count": 48,
     "metadata": {},
     "output_type": "execute_result"
    }
   ],
   "source": [
    "a* b"
   ]
  },
  {
   "cell_type": "code",
   "execution_count": 49,
   "id": "bee0e936-6a0e-4128-9c5a-15054c784add",
   "metadata": {},
   "outputs": [
    {
     "data": {
      "text/plain": [
       "3.3333333333333335"
      ]
     },
     "execution_count": 49,
     "metadata": {},
     "output_type": "execute_result"
    }
   ],
   "source": [
    "a/b"
   ]
  },
  {
   "cell_type": "code",
   "execution_count": 50,
   "id": "7ce0e4f4-cee5-40e2-a848-563c6c467223",
   "metadata": {},
   "outputs": [
    {
     "data": {
      "text/plain": [
       "3"
      ]
     },
     "execution_count": 50,
     "metadata": {},
     "output_type": "execute_result"
    }
   ],
   "source": [
    "a//b"
   ]
  },
  {
   "cell_type": "code",
   "execution_count": 51,
   "id": "1f40391a-d01a-4261-bf2c-14326f0e3bc0",
   "metadata": {},
   "outputs": [
    {
     "data": {
      "text/plain": [
       "1"
      ]
     },
     "execution_count": 51,
     "metadata": {},
     "output_type": "execute_result"
    }
   ],
   "source": [
    "a % b"
   ]
  },
  {
   "cell_type": "code",
   "execution_count": 52,
   "id": "aa5c3eea-5733-48e2-a7dc-6df2e02985c6",
   "metadata": {},
   "outputs": [
    {
     "data": {
      "text/plain": [
       "1000"
      ]
     },
     "execution_count": 52,
     "metadata": {},
     "output_type": "execute_result"
    }
   ],
   "source": [
    "a**b"
   ]
  },
  {
   "cell_type": "code",
   "execution_count": 21,
   "id": "d5a562e2-97e1-4e39-b13a-cc517d540216",
   "metadata": {},
   "outputs": [],
   "source": [
    "# Comparison Operators:\n",
    "# == (equal to): a == b\n",
    "# != (not equal to): a != b\n",
    "# < (less than): a < b\n",
    "# > (greater than): a > b\n",
    "# <= (less than or equal to): a <= b\n",
    "# >= (greater than or equal to): a >= b"
   ]
  },
  {
   "cell_type": "code",
   "execution_count": 53,
   "id": "63b76c6e-05ee-4ff6-bf1a-8bd6e01351d5",
   "metadata": {},
   "outputs": [
    {
     "data": {
      "text/plain": [
       "False"
      ]
     },
     "execution_count": 53,
     "metadata": {},
     "output_type": "execute_result"
    }
   ],
   "source": [
    "a == b"
   ]
  },
  {
   "cell_type": "code",
   "execution_count": 54,
   "id": "9ec56ec2-77e8-403a-ba05-6230348434a5",
   "metadata": {},
   "outputs": [
    {
     "data": {
      "text/plain": [
       "True"
      ]
     },
     "execution_count": 54,
     "metadata": {},
     "output_type": "execute_result"
    }
   ],
   "source": [
    "a != b"
   ]
  },
  {
   "cell_type": "code",
   "execution_count": 55,
   "id": "0bf8911f-f8bc-4fd0-9457-654da2169d23",
   "metadata": {},
   "outputs": [
    {
     "data": {
      "text/plain": [
       "False"
      ]
     },
     "execution_count": 55,
     "metadata": {},
     "output_type": "execute_result"
    }
   ],
   "source": [
    "a < b"
   ]
  },
  {
   "cell_type": "code",
   "execution_count": 56,
   "id": "56e1a7e4-201c-45ca-b5bf-29feac79e47a",
   "metadata": {},
   "outputs": [
    {
     "data": {
      "text/plain": [
       "True"
      ]
     },
     "execution_count": 56,
     "metadata": {},
     "output_type": "execute_result"
    }
   ],
   "source": [
    "a > b"
   ]
  },
  {
   "cell_type": "code",
   "execution_count": 57,
   "id": "19ccc115-5c2d-4f5c-bc8c-fe96db20f1d4",
   "metadata": {},
   "outputs": [
    {
     "data": {
      "text/plain": [
       "False"
      ]
     },
     "execution_count": 57,
     "metadata": {},
     "output_type": "execute_result"
    }
   ],
   "source": [
    "a <= b"
   ]
  },
  {
   "cell_type": "code",
   "execution_count": 58,
   "id": "0101b881-7810-4a3b-8549-9de8dbf3644a",
   "metadata": {},
   "outputs": [
    {
     "data": {
      "text/plain": [
       "True"
      ]
     },
     "execution_count": 58,
     "metadata": {},
     "output_type": "execute_result"
    }
   ],
   "source": [
    "a >= b"
   ]
  },
  {
   "cell_type": "code",
   "execution_count": 40,
   "id": "5aa08dbd-d5e6-4788-bf51-f5dbd39544d3",
   "metadata": {},
   "outputs": [],
   "source": [
    "#Logical Operators:\n",
    "# and: 1st condition and 2nd condition\n",
    "# or: 1st condition and 2nd condition\n",
    "# Not"
   ]
  },
  {
   "cell_type": "code",
   "execution_count": 33,
   "id": "a1a36d9f-e41e-4837-a4ba-42604a5efb27",
   "metadata": {},
   "outputs": [
    {
     "data": {
      "text/plain": [
       "True"
      ]
     },
     "execution_count": 33,
     "metadata": {},
     "output_type": "execute_result"
    }
   ],
   "source": [
    "True and True"
   ]
  },
  {
   "cell_type": "code",
   "execution_count": 34,
   "id": "d0696deb-b6b9-4fac-99c1-7d02880c6ce4",
   "metadata": {},
   "outputs": [
    {
     "data": {
      "text/plain": [
       "False"
      ]
     },
     "execution_count": 34,
     "metadata": {},
     "output_type": "execute_result"
    }
   ],
   "source": [
    "False and True"
   ]
  },
  {
   "cell_type": "code",
   "execution_count": 35,
   "id": "65e35ce2-be67-4b05-9539-538a556c1671",
   "metadata": {},
   "outputs": [
    {
     "data": {
      "text/plain": [
       "False"
      ]
     },
     "execution_count": 35,
     "metadata": {},
     "output_type": "execute_result"
    }
   ],
   "source": [
    "True and False"
   ]
  },
  {
   "cell_type": "code",
   "execution_count": 36,
   "id": "26572d7a-a871-4b2d-9742-14da0d196b39",
   "metadata": {},
   "outputs": [
    {
     "data": {
      "text/plain": [
       "False"
      ]
     },
     "execution_count": 36,
     "metadata": {},
     "output_type": "execute_result"
    }
   ],
   "source": [
    "False and False"
   ]
  },
  {
   "cell_type": "code",
   "execution_count": 41,
   "id": "f8067500-7f55-438e-9154-0ffd3c18af99",
   "metadata": {},
   "outputs": [
    {
     "data": {
      "text/plain": [
       "False"
      ]
     },
     "execution_count": 41,
     "metadata": {},
     "output_type": "execute_result"
    }
   ],
   "source": [
    "a> 50 and b <50 # F and T"
   ]
  },
  {
   "cell_type": "code",
   "execution_count": 43,
   "id": "8cd282fd-cc4e-4e8f-9e82-d5409d6027b6",
   "metadata": {},
   "outputs": [
    {
     "data": {
      "text/plain": [
       "True"
      ]
     },
     "execution_count": 43,
     "metadata": {},
     "output_type": "execute_result"
    }
   ],
   "source": [
    "a == 10 and b <30 # T and T"
   ]
  },
  {
   "cell_type": "code",
   "execution_count": 37,
   "id": "0beffd1d-fcc4-4a71-9cf4-ffdec9270654",
   "metadata": {},
   "outputs": [
    {
     "data": {
      "text/plain": [
       "True"
      ]
     },
     "execution_count": 37,
     "metadata": {},
     "output_type": "execute_result"
    }
   ],
   "source": [
    "True or True"
   ]
  },
  {
   "cell_type": "code",
   "execution_count": 38,
   "id": "bb799489-a56c-4fb8-a306-a0c79551ceee",
   "metadata": {},
   "outputs": [
    {
     "data": {
      "text/plain": [
       "True"
      ]
     },
     "execution_count": 38,
     "metadata": {},
     "output_type": "execute_result"
    }
   ],
   "source": [
    "False or True"
   ]
  },
  {
   "cell_type": "code",
   "execution_count": 39,
   "id": "93f564da-492f-4b76-bd65-65e5241530bf",
   "metadata": {},
   "outputs": [
    {
     "data": {
      "text/plain": [
       "True"
      ]
     },
     "execution_count": 39,
     "metadata": {},
     "output_type": "execute_result"
    }
   ],
   "source": [
    "True or False"
   ]
  },
  {
   "cell_type": "code",
   "execution_count": 40,
   "id": "52b147c0-3be0-4d0d-9a1e-91a619daa7e8",
   "metadata": {},
   "outputs": [
    {
     "data": {
      "text/plain": [
       "False"
      ]
     },
     "execution_count": 40,
     "metadata": {},
     "output_type": "execute_result"
    }
   ],
   "source": [
    "False or False"
   ]
  },
  {
   "cell_type": "code",
   "execution_count": 44,
   "id": "181558f6-2822-4954-a6ad-2f0ca8943d2b",
   "metadata": {},
   "outputs": [
    {
     "data": {
      "text/plain": [
       "True"
      ]
     },
     "execution_count": 44,
     "metadata": {},
     "output_type": "execute_result"
    }
   ],
   "source": [
    "a> 50 or b <50 # F and T"
   ]
  },
  {
   "cell_type": "code",
   "execution_count": 45,
   "id": "d7b6a6b2-63e9-4126-a239-c9a5ccaacbea",
   "metadata": {},
   "outputs": [
    {
     "data": {
      "text/plain": [
       "True"
      ]
     },
     "execution_count": 45,
     "metadata": {},
     "output_type": "execute_result"
    }
   ],
   "source": [
    "a == 10 or b <30 #T and T"
   ]
  },
  {
   "cell_type": "code",
   "execution_count": 41,
   "id": "ac26f8b5-19f5-4b21-ad03-dd40370c3a3e",
   "metadata": {},
   "outputs": [
    {
     "data": {
      "text/plain": [
       "False"
      ]
     },
     "execution_count": 41,
     "metadata": {},
     "output_type": "execute_result"
    }
   ],
   "source": [
    "not True"
   ]
  },
  {
   "cell_type": "code",
   "execution_count": 42,
   "id": "cd42b820-ec7c-4cf0-bef8-957dc25d13aa",
   "metadata": {},
   "outputs": [
    {
     "data": {
      "text/plain": [
       "True"
      ]
     },
     "execution_count": 42,
     "metadata": {},
     "output_type": "execute_result"
    }
   ],
   "source": [
    "not False"
   ]
  },
  {
   "cell_type": "code",
   "execution_count": 44,
   "id": "7e5dbea0-ec1a-477a-b790-2a6557b09a7d",
   "metadata": {},
   "outputs": [
    {
     "data": {
      "text/plain": [
       "True"
      ]
     },
     "execution_count": 44,
     "metadata": {},
     "output_type": "execute_result"
    }
   ],
   "source": [
    "not a == b"
   ]
  },
  {
   "cell_type": "code",
   "execution_count": 45,
   "id": "171e7d79-61f8-448e-bcd3-73d235d626a1",
   "metadata": {},
   "outputs": [
    {
     "data": {
      "text/plain": [
       "True"
      ]
     },
     "execution_count": 45,
     "metadata": {},
     "output_type": "execute_result"
    }
   ],
   "source": [
    "not a <= b"
   ]
  },
  {
   "cell_type": "code",
   "execution_count": 46,
   "id": "31dec07f-cedb-4af1-bdea-b45dfb98c364",
   "metadata": {},
   "outputs": [
    {
     "data": {
      "text/plain": [
       "False"
      ]
     },
     "execution_count": 46,
     "metadata": {},
     "output_type": "execute_result"
    }
   ],
   "source": [
    "not a ==10"
   ]
  },
  {
   "cell_type": "markdown",
   "id": "806354bf-01fd-49f4-bcd6-b22534c941c1",
   "metadata": {},
   "source": [
    "### Syntax: \n",
    "It is the rules for forming strings of characters and symbols. Every programming language has its unique syntax"
   ]
  },
  {
   "cell_type": "code",
   "execution_count": 4,
   "id": "a11cfe9d-bacb-4002-bd39-fe91207e2f6a",
   "metadata": {},
   "outputs": [
    {
     "data": {
      "text/plain": [
       "510.5"
      ]
     },
     "execution_count": 4,
     "metadata": {},
     "output_type": "execute_result"
    }
   ],
   "source": [
    "510 + 0.5"
   ]
  },
  {
   "cell_type": "code",
   "execution_count": 61,
   "id": "2c5ec5ee-dd78-47e7-9b35-423a1b14d159",
   "metadata": {},
   "outputs": [
    {
     "ename": "SyntaxError",
     "evalue": "invalid syntax (813511822.py, line 1)",
     "output_type": "error",
     "traceback": [
      "\u001b[1;36m  Cell \u001b[1;32mIn[61], line 1\u001b[1;36m\u001b[0m\n\u001b[1;33m    510 0.5\u001b[0m\n\u001b[1;37m        ^\u001b[0m\n\u001b[1;31mSyntaxError\u001b[0m\u001b[1;31m:\u001b[0m invalid syntax\n"
     ]
    }
   ],
   "source": [
    "510 0.5"
   ]
  },
  {
   "cell_type": "markdown",
   "id": "a0269983-5bb1-4190-bbb3-7f7976997c46",
   "metadata": {},
   "source": [
    "### Static Semantics:\n",
    "It is the rules for syntactically valid and meaningful strings (objects) in a programming language"
   ]
  },
  {
   "cell_type": "code",
   "execution_count": 62,
   "id": "fb6ef41e-818a-4a84-9bb3-05888f94cbb9",
   "metadata": {},
   "outputs": [
    {
     "ename": "TypeError",
     "evalue": "unsupported operand type(s) for /: 'str' and 'str'",
     "output_type": "error",
     "traceback": [
      "\u001b[1;31m---------------------------------------------------------------------------\u001b[0m",
      "\u001b[1;31mTypeError\u001b[0m                                 Traceback (most recent call last)",
      "Cell \u001b[1;32mIn[62], line 1\u001b[0m\n\u001b[1;32m----> 1\u001b[0m \u001b[38;5;124m'\u001b[39m\u001b[38;5;124mEconomics\u001b[39m\u001b[38;5;124m'\u001b[39m\u001b[38;5;241m/\u001b[39m\u001b[38;5;124m\"\u001b[39m\u001b[38;5;124mE\u001b[39m\u001b[38;5;124m\"\u001b[39m\n",
      "\u001b[1;31mTypeError\u001b[0m: unsupported operand type(s) for /: 'str' and 'str'"
     ]
    }
   ],
   "source": [
    "'Economics'/\"E\""
   ]
  },
  {
   "cell_type": "markdown",
   "id": "5fb8e18e-7526-45d6-bac8-12db2635cf63",
   "metadata": {},
   "source": [
    "## Lists\n",
    "* list is an **ordered** sequence of values. \n",
    "* It can contain any type\n",
    "* It can contain different types simultenously"
   ]
  },
  {
   "cell_type": "code",
   "execution_count": null,
   "id": "7b797ace-b9fb-4912-92df-d3e29e928b69",
   "metadata": {},
   "outputs": [],
   "source": [
    "# append, insert, count, extend, clear, index, remove, pop, reverse, sort, copy, len"
   ]
  },
  {
   "cell_type": "code",
   "execution_count": 63,
   "id": "fdd3fcd7-1f51-4ade-9e43-aaa5d235a3f5",
   "metadata": {},
   "outputs": [],
   "source": [
    "height = [1.72, 1.57, 1.8] "
   ]
  },
  {
   "cell_type": "code",
   "execution_count": 64,
   "id": "18c9b692-a031-4991-9ccf-89f6b54a41ce",
   "metadata": {},
   "outputs": [
    {
     "data": {
      "text/plain": [
       "list"
      ]
     },
     "execution_count": 64,
     "metadata": {},
     "output_type": "execute_result"
    }
   ],
   "source": [
    "type(height)"
   ]
  },
  {
   "cell_type": "code",
   "execution_count": 65,
   "id": "7030aa30-4a07-4769-bc5d-1221bdf1fe50",
   "metadata": {},
   "outputs": [
    {
     "data": {
      "text/plain": [
       "1.72"
      ]
     },
     "execution_count": 65,
     "metadata": {},
     "output_type": "execute_result"
    }
   ],
   "source": [
    "height[0]"
   ]
  },
  {
   "cell_type": "code",
   "execution_count": 66,
   "id": "367104eb-1368-42ac-af76-a37cd7ad3380",
   "metadata": {},
   "outputs": [
    {
     "data": {
      "text/plain": [
       "1.57"
      ]
     },
     "execution_count": 66,
     "metadata": {},
     "output_type": "execute_result"
    }
   ],
   "source": [
    "height[1]"
   ]
  },
  {
   "cell_type": "code",
   "execution_count": 38,
   "id": "6c4651e0-fe00-483d-a8d3-191838e16819",
   "metadata": {},
   "outputs": [
    {
     "data": {
      "text/plain": [
       "1.8"
      ]
     },
     "execution_count": 38,
     "metadata": {},
     "output_type": "execute_result"
    }
   ],
   "source": [
    "height[2]"
   ]
  },
  {
   "cell_type": "code",
   "execution_count": 67,
   "id": "52eb6066-17d2-4df9-8c48-317824ef0a75",
   "metadata": {},
   "outputs": [
    {
     "data": {
      "text/plain": [
       "(0, 1, 2)"
      ]
     },
     "execution_count": 67,
     "metadata": {},
     "output_type": "execute_result"
    }
   ],
   "source": [
    "0, 1, 2"
   ]
  },
  {
   "cell_type": "code",
   "execution_count": null,
   "id": "d501a15b-7897-457e-9337-00cda85aabec",
   "metadata": {},
   "outputs": [],
   "source": [
    "(-3, -2, -1)"
   ]
  },
  {
   "cell_type": "code",
   "execution_count": 68,
   "id": "6606674f-6723-45ed-a007-c84cb6a84c13",
   "metadata": {},
   "outputs": [
    {
     "data": {
      "text/plain": [
       "1.8"
      ]
     },
     "execution_count": 68,
     "metadata": {},
     "output_type": "execute_result"
    }
   ],
   "source": [
    "height[-1]"
   ]
  },
  {
   "cell_type": "code",
   "execution_count": 69,
   "id": "2cc5b94c-24af-453e-a78a-dccf0bb14796",
   "metadata": {},
   "outputs": [
    {
     "data": {
      "text/plain": [
       "1.57"
      ]
     },
     "execution_count": 69,
     "metadata": {},
     "output_type": "execute_result"
    }
   ],
   "source": [
    "height[-2]"
   ]
  },
  {
   "cell_type": "code",
   "execution_count": 70,
   "id": "b22923a5-455a-4977-98f1-2b940b5dad51",
   "metadata": {},
   "outputs": [
    {
     "data": {
      "text/plain": [
       "1.72"
      ]
     },
     "execution_count": 70,
     "metadata": {},
     "output_type": "execute_result"
    }
   ],
   "source": [
    "height[-3]"
   ]
  },
  {
   "cell_type": "code",
   "execution_count": 72,
   "id": "9e4b4663-3400-4b39-844b-ab4d29dc5064",
   "metadata": {},
   "outputs": [],
   "source": [
    "member_height = ['A', 1.72, 'B', 1.57, 'C', 1.8]"
   ]
  },
  {
   "cell_type": "code",
   "execution_count": 77,
   "id": "05bd45f1-f817-408d-94bd-13733a011d30",
   "metadata": {},
   "outputs": [
    {
     "data": {
      "text/plain": [
       "[1.72, 'B', 1.57, 'C']"
      ]
     },
     "execution_count": 77,
     "metadata": {},
     "output_type": "execute_result"
    }
   ],
   "source": [
    "member_height[1:5]"
   ]
  },
  {
   "cell_type": "code",
   "execution_count": 73,
   "id": "d841a1f2-69b9-486c-8b05-7d9fcf2f044b",
   "metadata": {},
   "outputs": [
    {
     "data": {
      "text/plain": [
       "['A', 1.72, 'B']"
      ]
     },
     "execution_count": 73,
     "metadata": {},
     "output_type": "execute_result"
    }
   ],
   "source": [
    "member_height[:3]"
   ]
  },
  {
   "cell_type": "code",
   "execution_count": 75,
   "id": "47d5e2ac-5387-42ee-ab2e-2416dd87514e",
   "metadata": {},
   "outputs": [
    {
     "data": {
      "text/plain": [
       "['A', 1.72, 'B', 1.57]"
      ]
     },
     "execution_count": 75,
     "metadata": {},
     "output_type": "execute_result"
    }
   ],
   "source": [
    "#slicing\n",
    "member_height[0:4]"
   ]
  },
  {
   "cell_type": "code",
   "execution_count": 43,
   "id": "e5daf137-b609-42e4-bbe8-e86f0dea0ea9",
   "metadata": {},
   "outputs": [
    {
     "data": {
      "text/plain": [
       "['B', 1.57, 'C']"
      ]
     },
     "execution_count": 43,
     "metadata": {},
     "output_type": "execute_result"
    }
   ],
   "source": [
    "member_height[2:5]"
   ]
  },
  {
   "cell_type": "code",
   "execution_count": 44,
   "id": "a3b0cdb2-057f-4c50-8256-ee51b925c4f1",
   "metadata": {},
   "outputs": [
    {
     "data": {
      "text/plain": [
       "[1.57, 'C', 1.8]"
      ]
     },
     "execution_count": 44,
     "metadata": {},
     "output_type": "execute_result"
    }
   ],
   "source": [
    "member_height[3:]"
   ]
  },
  {
   "cell_type": "code",
   "execution_count": 82,
   "id": "415f1756-1737-4817-ac01-dcb22ee56e32",
   "metadata": {},
   "outputs": [],
   "source": [
    "A = [1, 2, 3]"
   ]
  },
  {
   "cell_type": "code",
   "execution_count": 83,
   "id": "c5c7f9fd-a6f9-4cb0-8023-9cb6e26d65f4",
   "metadata": {},
   "outputs": [],
   "source": [
    "A.append(4)"
   ]
  },
  {
   "cell_type": "code",
   "execution_count": 98,
   "id": "fc64fb37-658e-4e8b-a74d-2c88b4a6fd02",
   "metadata": {},
   "outputs": [
    {
     "data": {
      "text/plain": [
       "[]"
      ]
     },
     "execution_count": 98,
     "metadata": {},
     "output_type": "execute_result"
    }
   ],
   "source": [
    "A"
   ]
  },
  {
   "cell_type": "code",
   "execution_count": 91,
   "id": "43ea3f3e-a013-49e2-9e9b-440421341d47",
   "metadata": {},
   "outputs": [],
   "source": [
    "A.insert(4, 4) # inset(index, value)"
   ]
  },
  {
   "cell_type": "code",
   "execution_count": 96,
   "id": "5872f9ed-d898-43e0-a9c6-2ef3d6ed3a4f",
   "metadata": {},
   "outputs": [
    {
     "data": {
      "text/plain": [
       "3"
      ]
     },
     "execution_count": 96,
     "metadata": {},
     "output_type": "execute_result"
    }
   ],
   "source": [
    "A.count(4)"
   ]
  },
  {
   "cell_type": "code",
   "execution_count": 97,
   "id": "521b7c48-50b2-43aa-af4b-7ea70b79696a",
   "metadata": {},
   "outputs": [],
   "source": [
    "A.clear()"
   ]
  },
  {
   "cell_type": "code",
   "execution_count": 99,
   "id": "3e96fe37-c019-4751-b537-e7a679575eb4",
   "metadata": {},
   "outputs": [],
   "source": [
    "A.append(8)"
   ]
  },
  {
   "cell_type": "code",
   "execution_count": 101,
   "id": "0c19989e-24e3-4335-a012-2a1a1ac1b596",
   "metadata": {},
   "outputs": [],
   "source": [
    "A.append(7)"
   ]
  },
  {
   "cell_type": "code",
   "execution_count": 106,
   "id": "7d43b7e0-1459-414e-b870-dcc44f126b86",
   "metadata": {},
   "outputs": [
    {
     "data": {
      "text/plain": [
       "[8]"
      ]
     },
     "execution_count": 106,
     "metadata": {},
     "output_type": "execute_result"
    }
   ],
   "source": [
    "A"
   ]
  },
  {
   "cell_type": "code",
   "execution_count": 104,
   "id": "194ca1c6-6975-487e-9ed5-cbb4f9aa8f6e",
   "metadata": {},
   "outputs": [
    {
     "data": {
      "text/plain": [
       "0"
      ]
     },
     "execution_count": 104,
     "metadata": {},
     "output_type": "execute_result"
    }
   ],
   "source": [
    "A.index(8)"
   ]
  },
  {
   "cell_type": "code",
   "execution_count": 105,
   "id": "09a0be47-8666-42a7-b1f6-917109e9d8c4",
   "metadata": {},
   "outputs": [],
   "source": [
    "A.remove(7)"
   ]
  },
  {
   "cell_type": "code",
   "execution_count": 108,
   "id": "ae5318b2-47eb-42cf-b338-3d6b02c8a31f",
   "metadata": {},
   "outputs": [],
   "source": [
    "B = A.copy()"
   ]
  },
  {
   "cell_type": "code",
   "execution_count": 109,
   "id": "a491e298-ccab-4bb6-9840-cce49d0ecefa",
   "metadata": {},
   "outputs": [
    {
     "data": {
      "text/plain": [
       "[8]"
      ]
     },
     "execution_count": 109,
     "metadata": {},
     "output_type": "execute_result"
    }
   ],
   "source": [
    "B"
   ]
  },
  {
   "cell_type": "code",
   "execution_count": 110,
   "id": "c98e1d19-96a5-40c6-ae64-32f37f41ceb9",
   "metadata": {},
   "outputs": [
    {
     "data": {
      "text/plain": [
       "[8]"
      ]
     },
     "execution_count": 110,
     "metadata": {},
     "output_type": "execute_result"
    }
   ],
   "source": [
    "A"
   ]
  },
  {
   "cell_type": "code",
   "execution_count": 120,
   "id": "d9eed06b-d134-477d-8ea9-e0c7f85d3716",
   "metadata": {},
   "outputs": [
    {
     "data": {
      "text/plain": [
       "[1.8, 1.72, 1.57, 1.49]"
      ]
     },
     "execution_count": 120,
     "metadata": {},
     "output_type": "execute_result"
    }
   ],
   "source": [
    "height"
   ]
  },
  {
   "cell_type": "code",
   "execution_count": 115,
   "id": "a7c814e4-6178-4e3f-bb43-4ab4f8abca11",
   "metadata": {},
   "outputs": [],
   "source": [
    "height.sort(reverse = True)"
   ]
  },
  {
   "cell_type": "code",
   "execution_count": 114,
   "id": "4811b315-73c2-44e1-9807-7f381023b72d",
   "metadata": {},
   "outputs": [
    {
     "data": {
      "text/plain": [
       "3"
      ]
     },
     "execution_count": 114,
     "metadata": {},
     "output_type": "execute_result"
    }
   ],
   "source": [
    "len(height)"
   ]
  },
  {
   "cell_type": "code",
   "execution_count": 117,
   "id": "a4484c1e-0479-4871-9b7b-712055cef5b3",
   "metadata": {},
   "outputs": [],
   "source": [
    "height.extend([1.6, 1.49])"
   ]
  },
  {
   "cell_type": "code",
   "execution_count": 119,
   "id": "96736e9f-28b1-41b2-8663-f88ad237d8e2",
   "metadata": {},
   "outputs": [
    {
     "data": {
      "text/plain": [
       "1.6"
      ]
     },
     "execution_count": 119,
     "metadata": {},
     "output_type": "execute_result"
    }
   ],
   "source": [
    "height.pop(3)"
   ]
  },
  {
   "cell_type": "code",
   "execution_count": 121,
   "id": "6eaa9716-c776-40cb-8c5a-c03945b0ee5c",
   "metadata": {},
   "outputs": [],
   "source": [
    "set_height = set(height)"
   ]
  },
  {
   "cell_type": "code",
   "execution_count": 123,
   "id": "be047b1b-e91f-498d-b05b-835ccba2754a",
   "metadata": {},
   "outputs": [
    {
     "data": {
      "text/plain": [
       "set"
      ]
     },
     "execution_count": 123,
     "metadata": {},
     "output_type": "execute_result"
    }
   ],
   "source": [
    "type(set_height)"
   ]
  },
  {
   "cell_type": "markdown",
   "id": "c2e6d162-5634-4c90-9e07-c24c1d35baa5",
   "metadata": {},
   "source": [
    "### Set\n",
    "* It is an unordered collection of elements\n",
    "* It can containt elements of any type.\n",
    "* It can contain different elements simaltenously. "
   ]
  },
  {
   "cell_type": "code",
   "execution_count": null,
   "id": "28f177ed-a9a4-4919-9f4f-a4cd517495d7",
   "metadata": {},
   "outputs": [],
   "source": [
    "# add, clear, copy, remove, issubset, issuperset, isdisjoint, intersection, difference, symmetric_difference, union"
   ]
  },
  {
   "cell_type": "code",
   "execution_count": 7,
   "id": "3f2d2eb2-7c3a-4e64-a7fd-ceb85cb25dff",
   "metadata": {},
   "outputs": [],
   "source": [
    "# Set to list and vice versa"
   ]
  },
  {
   "cell_type": "code",
   "execution_count": 170,
   "id": "08b32b6a-d1a4-4182-8fea-f401fce0be3b",
   "metadata": {},
   "outputs": [],
   "source": [
    "set1 = {3, 1, 2}"
   ]
  },
  {
   "cell_type": "code",
   "execution_count": 150,
   "id": "5ef531dd-a1f8-46a4-8221-25f903acda6b",
   "metadata": {},
   "outputs": [
    {
     "data": {
      "text/plain": [
       "{1, 2, 3}"
      ]
     },
     "execution_count": 150,
     "metadata": {},
     "output_type": "execute_result"
    }
   ],
   "source": [
    "set1"
   ]
  },
  {
   "cell_type": "code",
   "execution_count": 9,
   "id": "da8a1c08-ad6e-4f8f-8f2d-92d2a0e738dd",
   "metadata": {},
   "outputs": [],
   "source": [
    "l = list(set1)"
   ]
  },
  {
   "cell_type": "code",
   "execution_count": 10,
   "id": "dd6eec07-6f99-47d2-85cd-592650223262",
   "metadata": {},
   "outputs": [
    {
     "data": {
      "text/plain": [
       "[1, 2, 3]"
      ]
     },
     "execution_count": 10,
     "metadata": {},
     "output_type": "execute_result"
    }
   ],
   "source": [
    "l"
   ]
  },
  {
   "cell_type": "code",
   "execution_count": 131,
   "id": "2708c498-39fd-49e1-b12f-fcf396c55b3d",
   "metadata": {},
   "outputs": [],
   "source": [
    "fruit = {'apple', 'orange', 'grape'}"
   ]
  },
  {
   "cell_type": "code",
   "execution_count": 133,
   "id": "377fdc79-7ea5-4faa-8b04-b01d9711e848",
   "metadata": {},
   "outputs": [],
   "source": [
    "fruit.add('berry')"
   ]
  },
  {
   "cell_type": "code",
   "execution_count": 136,
   "id": "8484660f-7e9e-4ffd-9f76-c6599c03214c",
   "metadata": {},
   "outputs": [
    {
     "data": {
      "text/plain": [
       "{'berry', 'grape', 'orange'}"
      ]
     },
     "execution_count": 136,
     "metadata": {},
     "output_type": "execute_result"
    }
   ],
   "source": [
    "fruit"
   ]
  },
  {
   "cell_type": "code",
   "execution_count": 129,
   "id": "74a3d590-0b26-48c7-bb4f-144268ccd47f",
   "metadata": {},
   "outputs": [],
   "source": [
    "fruit.clear()"
   ]
  },
  {
   "cell_type": "code",
   "execution_count": 135,
   "id": "f9c8472b-7f31-4898-8e65-ca2d5ed653b1",
   "metadata": {},
   "outputs": [],
   "source": [
    "fruit.remove('apple')"
   ]
  },
  {
   "cell_type": "code",
   "execution_count": 169,
   "id": "73bb0ad3-f2e1-49b3-b043-840a72c8f8e5",
   "metadata": {},
   "outputs": [],
   "source": [
    "c = {'india', 'bangladesh', 'pakistan', 'afganistan'}"
   ]
  },
  {
   "cell_type": "code",
   "execution_count": 159,
   "id": "0f822f73-18d8-4f68-a76f-761d6e82b8ac",
   "metadata": {},
   "outputs": [
    {
     "data": {
      "text/plain": [
       "set()"
      ]
     },
     "execution_count": 159,
     "metadata": {},
     "output_type": "execute_result"
    }
   ],
   "source": [
    "c"
   ]
  },
  {
   "cell_type": "code",
   "execution_count": 158,
   "id": "2439d15c-df1f-40fe-9610-f7d6d402ff00",
   "metadata": {},
   "outputs": [
    {
     "data": {
      "text/plain": [
       "'pakistan'"
      ]
     },
     "execution_count": 158,
     "metadata": {},
     "output_type": "execute_result"
    }
   ],
   "source": [
    "c.pop()"
   ]
  },
  {
   "cell_type": "code",
   "execution_count": 165,
   "id": "c6ee18a7-d134-44a8-a9bb-fe5159df003e",
   "metadata": {},
   "outputs": [],
   "source": [
    "x = {'a', 'b', 'c'}\n",
    "y = {'f', 'e', 'g', 'b', 'c'}"
   ]
  },
  {
   "cell_type": "code",
   "execution_count": 167,
   "id": "d8866feb-4c06-4a58-889f-bf7b80a6136c",
   "metadata": {},
   "outputs": [
    {
     "data": {
      "text/plain": [
       "False"
      ]
     },
     "execution_count": 167,
     "metadata": {},
     "output_type": "execute_result"
    }
   ],
   "source": [
    "x.issubset(y)"
   ]
  },
  {
   "cell_type": "code",
   "execution_count": 166,
   "id": "bf603c9b-161b-4cf9-a648-1bc524169b21",
   "metadata": {},
   "outputs": [
    {
     "data": {
      "text/plain": [
       "False"
      ]
     },
     "execution_count": 166,
     "metadata": {},
     "output_type": "execute_result"
    }
   ],
   "source": [
    "y.issuperset(x)"
   ]
  },
  {
   "cell_type": "code",
   "execution_count": 168,
   "id": "557c5094-4302-43d3-b07b-40e64f7582da",
   "metadata": {},
   "outputs": [
    {
     "data": {
      "text/plain": [
       "False"
      ]
     },
     "execution_count": 168,
     "metadata": {},
     "output_type": "execute_result"
    }
   ],
   "source": [
    "x.isdisjoint(y)"
   ]
  },
  {
   "cell_type": "code",
   "execution_count": 171,
   "id": "e2c36e17-45b7-457b-9542-ffafa44e8059",
   "metadata": {},
   "outputs": [
    {
     "data": {
      "text/plain": [
       "True"
      ]
     },
     "execution_count": 171,
     "metadata": {},
     "output_type": "execute_result"
    }
   ],
   "source": [
    "set1.isdisjoint(c)"
   ]
  },
  {
   "cell_type": "code",
   "execution_count": 172,
   "id": "23fe5db1-7a17-4051-b8ca-4b0992d64773",
   "metadata": {},
   "outputs": [],
   "source": [
    "z = x.intersection(y)"
   ]
  },
  {
   "cell_type": "code",
   "execution_count": 173,
   "id": "9cca7cfb-1648-4283-ae23-61b1314de488",
   "metadata": {},
   "outputs": [
    {
     "data": {
      "text/plain": [
       "{'b', 'c'}"
      ]
     },
     "execution_count": 173,
     "metadata": {},
     "output_type": "execute_result"
    }
   ],
   "source": [
    "z"
   ]
  },
  {
   "cell_type": "code",
   "execution_count": 174,
   "id": "fd763c76-6b29-4af2-bb1a-c721a454e465",
   "metadata": {},
   "outputs": [],
   "source": [
    "m = x.union(y)"
   ]
  },
  {
   "cell_type": "code",
   "execution_count": 175,
   "id": "b94a7c5f-f880-426a-a756-81e33a68d55e",
   "metadata": {},
   "outputs": [
    {
     "data": {
      "text/plain": [
       "{'a', 'b', 'c', 'e', 'f', 'g'}"
      ]
     },
     "execution_count": 175,
     "metadata": {},
     "output_type": "execute_result"
    }
   ],
   "source": [
    "m"
   ]
  },
  {
   "cell_type": "code",
   "execution_count": 176,
   "id": "b4a51056-6c1b-44b2-9476-7d3866319587",
   "metadata": {},
   "outputs": [],
   "source": [
    "n = x.difference(y)"
   ]
  },
  {
   "cell_type": "code",
   "execution_count": 177,
   "id": "2b932b58-de31-4b7f-9078-a2c9183e8949",
   "metadata": {},
   "outputs": [
    {
     "data": {
      "text/plain": [
       "{'a'}"
      ]
     },
     "execution_count": 177,
     "metadata": {},
     "output_type": "execute_result"
    }
   ],
   "source": [
    "n"
   ]
  },
  {
   "cell_type": "code",
   "execution_count": 178,
   "id": "5dd2dae1-09bc-441b-a5ad-ca06b01aa64a",
   "metadata": {},
   "outputs": [],
   "source": [
    "o = y.difference(x)"
   ]
  },
  {
   "cell_type": "code",
   "execution_count": 179,
   "id": "082fbbce-bde2-4d31-bfb6-4ba99679e75d",
   "metadata": {},
   "outputs": [
    {
     "data": {
      "text/plain": [
       "{'e', 'f', 'g'}"
      ]
     },
     "execution_count": 179,
     "metadata": {},
     "output_type": "execute_result"
    }
   ],
   "source": [
    "o"
   ]
  },
  {
   "cell_type": "code",
   "execution_count": 181,
   "id": "034bbced-4e51-44cb-a88c-85d31331ab86",
   "metadata": {},
   "outputs": [],
   "source": [
    "p = {'g', 'h', 'i', 'j'}"
   ]
  },
  {
   "cell_type": "code",
   "execution_count": 182,
   "id": "893cf41f-aca3-4732-b0b5-0a046e307e0d",
   "metadata": {},
   "outputs": [],
   "source": [
    "u = p.union(x, y)"
   ]
  },
  {
   "cell_type": "code",
   "execution_count": 183,
   "id": "fbc21122-f343-4fed-89d7-e08283f5207c",
   "metadata": {},
   "outputs": [
    {
     "data": {
      "text/plain": [
       "{'a', 'b', 'c', 'e', 'f', 'g', 'h', 'i', 'j'}"
      ]
     },
     "execution_count": 183,
     "metadata": {},
     "output_type": "execute_result"
    }
   ],
   "source": [
    "u"
   ]
  },
  {
   "cell_type": "code",
   "execution_count": 184,
   "id": "b5490070-198d-4fbd-8f06-53b0881161c4",
   "metadata": {},
   "outputs": [],
   "source": [
    "s = p.intersection(x,y)"
   ]
  },
  {
   "cell_type": "code",
   "execution_count": 185,
   "id": "672ec0ca-c8fe-4d16-995e-b701ae6ae652",
   "metadata": {},
   "outputs": [
    {
     "data": {
      "text/plain": [
       "set()"
      ]
     },
     "execution_count": 185,
     "metadata": {},
     "output_type": "execute_result"
    }
   ],
   "source": [
    "s"
   ]
  },
  {
   "cell_type": "code",
   "execution_count": 186,
   "id": "5026d6de-3434-4eff-9800-fd645be8064f",
   "metadata": {},
   "outputs": [],
   "source": [
    "i = x.symmetric_difference(y)"
   ]
  },
  {
   "cell_type": "code",
   "execution_count": 187,
   "id": "4848f80e-23d3-462d-9b41-948df3d455fa",
   "metadata": {},
   "outputs": [
    {
     "data": {
      "text/plain": [
       "{'a', 'e', 'f', 'g'}"
      ]
     },
     "execution_count": 187,
     "metadata": {},
     "output_type": "execute_result"
    }
   ],
   "source": [
    "i"
   ]
  },
  {
   "cell_type": "code",
   "execution_count": 188,
   "id": "31b446ec-7fe8-4e90-ab7f-0fd2211d2194",
   "metadata": {},
   "outputs": [],
   "source": [
    "j = x.difference(y)"
   ]
  },
  {
   "cell_type": "code",
   "execution_count": 189,
   "id": "b13444a8-06b4-49e7-a25a-dcd6fb3eb56d",
   "metadata": {},
   "outputs": [
    {
     "data": {
      "text/plain": [
       "{'a'}"
      ]
     },
     "execution_count": 189,
     "metadata": {},
     "output_type": "execute_result"
    }
   ],
   "source": [
    "j"
   ]
  }
 ],
 "metadata": {
  "kernelspec": {
   "display_name": "Python 3 (ipykernel)",
   "language": "python",
   "name": "python3"
  },
  "language_info": {
   "codemirror_mode": {
    "name": "ipython",
    "version": 3
   },
   "file_extension": ".py",
   "mimetype": "text/x-python",
   "name": "python",
   "nbconvert_exporter": "python",
   "pygments_lexer": "ipython3",
   "version": "3.12.7"
  }
 },
 "nbformat": 4,
 "nbformat_minor": 5
}
